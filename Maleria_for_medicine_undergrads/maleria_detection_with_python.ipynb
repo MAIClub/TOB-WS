{
  "nbformat": 4,
  "nbformat_minor": 0,
  "metadata": {
    "colab": {
      "name": "maleria_detection_with_python.ipynb",
      "version": "0.3.2",
      "provenance": [],
      "include_colab_link": true
    },
    "kernelspec": {
      "name": "python3",
      "display_name": "Python 3"
    }
  },
  "cells": [
    {
      "cell_type": "markdown",
      "metadata": {
        "id": "view-in-github",
        "colab_type": "text"
      },
      "source": [
        "<a href=\"https://colab.research.google.com/github/TYZAUM/TOB-WS/blob/master/maleria_detection_with_python.ipynb\" target=\"_parent\"><img src=\"https://colab.research.google.com/assets/colab-badge.svg\" alt=\"Open In Colab\"/></a>"
      ]
    },
    {
      "cell_type": "markdown",
      "metadata": {
        "id": "iI2ZjL0VVbP0",
        "colab_type": "text"
      },
      "source": [
        "# TOB & MAI Workshop \n",
        "\n",
        "```\n",
        "# Maleria cell detection \n",
        "```\n",
        "\n"
      ]
    },
    {
      "cell_type": "markdown",
      "metadata": {
        "id": "AbEPDkynVqtN",
        "colab_type": "text"
      },
      "source": [
        "# Downloading Dataset\n"
      ]
    },
    {
      "cell_type": "code",
      "metadata": {
        "id": "Lu59fEF4VTIG",
        "colab_type": "code",
        "colab": {
          "base_uri": "https://localhost:8080/",
          "height": 34
        },
        "outputId": "bfeecd33-79d7-40dc-b1fb-cdbaea544b52"
      },
      "source": [
        "!mkdir /root/.kaggle/\n",
        "!touch /root/.kaggle/kaggle.json\n",
        "!chmod 600 /root/.kaggle/kaggle.json\n",
        "!echo '{\"username\":\"maibot\",\"key\":\"6d074d5b96d5e062ee89f0330b8a4cc2\"}' > /root/.kaggle/kaggle.json"
      ],
      "execution_count": 3,
      "outputs": [
        {
          "output_type": "stream",
          "text": [
            "mkdir: cannot create directory ‘/root/.kaggle/’: File exists\n"
          ],
          "name": "stdout"
        }
      ]
    },
    {
      "cell_type": "code",
      "metadata": {
        "id": "pD6j9rrFSnok",
        "colab_type": "code",
        "colab": {
          "base_uri": "https://localhost:8080/",
          "height": 69
        },
        "outputId": "6079ba31-f30c-4db9-dae7-101ed347d313"
      },
      "source": [
        "!kaggle datasets download -d iarunava/cell-images-for-detecting-malaria"
      ],
      "execution_count": 4,
      "outputs": [
        {
          "output_type": "stream",
          "text": [
            "Downloading cell-images-for-detecting-malaria.zip to /content\n",
            " 95% 321M/337M [00:03<00:00, 114MB/s] \n",
            "100% 337M/337M [00:03<00:00, 111MB/s]\n"
          ],
          "name": "stdout"
        }
      ]
    },
    {
      "cell_type": "markdown",
      "metadata": {
        "id": "KVvks9gzWktp",
        "colab_type": "text"
      },
      "source": [
        "# Preprocessing & EDA"
      ]
    },
    {
      "cell_type": "markdown",
      "metadata": {
        "id": "LNvFjQWpW_kn",
        "colab_type": "text"
      },
      "source": [
        "**EDA - Exploratory Data Analysis**\n",
        "\n",
        "We can make few observations, by looking at the head of the data:\n",
        "\n",
        "\n",
        "\n",
        "*   There are missing values across the dataframe, which need to be handled.\n",
        "\n",
        "*   Cup-size contains multiple preferences- which will need handling, if we wish to define cup sizes as 'category' datatype.\n",
        "\n",
        "*   Height column needs to be parsed for extracting the height in a numerical quantity, it looks like a string (object) right now.\n",
        "\n",
        "*       Not so important, but some columns could do with some renaming- for removing spaces.\n",
        "\n",
        "\n",
        "> Firstly, we handle the naming of columns for ease-of-access in pandas.\n",
        "\n"
      ]
    },
    {
      "cell_type": "markdown",
      "metadata": {
        "id": "Lhw3iS3QW_pA",
        "colab_type": "text"
      },
      "source": [
        ""
      ]
    },
    {
      "cell_type": "code",
      "metadata": {
        "id": "9U1_m3YwVXIX",
        "colab_type": "code",
        "colab": {}
      },
      "source": [
        "\"\"\"\n",
        "@author: batuhan\n",
        "\"\"\"\n",
        "\n",
        "import pandas as pd\n",
        "import numpy as np\n",
        "import os\n",
        "import cv2\n",
        "from PIL import Image\n",
        "from keras.utils import np_utils\n",
        "import keras\n",
        "from keras.layers import Conv2D,MaxPooling2D,Dense,Flatten,Dropout\n",
        "from keras.models import Sequential"
      ],
      "execution_count": 0,
      "outputs": []
    },
    {
      "cell_type": "code",
      "metadata": {
        "id": "I6A2YpC6TONF",
        "colab_type": "code",
        "colab": {}
      },
      "source": [
        "#%% Getting Dataset ready and save it for later usage\n",
        "data = []\n",
        "labels = []\n",
        "infected = os.listdir(\"cell_images/Parasitized/\")\n",
        "uninfected = os.listdir(\"cell_images/Uninfected/\")\n",
        "\n",
        "for imageOne in infected:\n",
        "    try:\n",
        "        img = cv2.imread(\"cell_images/Parasitized/\"+imageOne)\n",
        "        img_from_array = Image.fromarray(img, \"RGB\")\n",
        "        size_image = img_from_array.resize((50,50))\n",
        "        data.append(np.array(size_image))\n",
        "        labels.append(0)\n",
        "    except AttributeError:\n",
        "        print(\"infected data loading\")\n",
        "\n",
        "for imageTwo in uninfected:\n",
        "    try:\n",
        "        img = cv2.imread(\"cell_images/Uninfected/\"+imageTwo)\n",
        "        img_from_array = Image.fromarray(img, \"RGB\")\n",
        "        size_image = img_from_array.resize((50,50))\n",
        "        data.append(np.array(size_image))\n",
        "        labels.append(1)\n",
        "    except AttributeError:\n",
        "        print(\"Uninfected data loading\")\n",
        "        \n",
        "Dataset = np.array(data)\n",
        "Labels = np.array(labels)\n",
        "\n",
        "np.save(\"50by50Dataset\",Dataset)\n",
        "np.save(\"50by50Labels\",Labels)\n"
      ],
      "execution_count": 0,
      "outputs": []
    },
    {
      "cell_type": "code",
      "metadata": {
        "id": "zxtOVbXiXxWG",
        "colab_type": "code",
        "colab": {}
      },
      "source": [
        "#%% Loading Dataset and preparing for cnn\n",
        "loaded_dataset = np.load(\"50by50Dataset.npy\")\n",
        "loaded_labels = np.load(\"50by50Labels.npy\")\n",
        "\n",
        "s=np.arange(loaded_dataset.shape[0])\n",
        "np.random.shuffle(s)\n",
        "loaded_dataset = loaded_dataset[s]\n",
        "loaded_labels = loaded_labels[s]\n",
        "\n",
        "num_classes=len(np.unique(loaded_labels))\n",
        "len_data=len(loaded_dataset)\n",
        "\n",
        "(x_train,x_test)=loaded_dataset[(int)(0.1*len_data):],loaded_dataset[:(int)(0.1*len_data)]\n",
        "x_train = x_train.astype('float32')/255 #Normalize\n",
        "x_test = x_test.astype('float32')/255\n",
        "train_len=len(x_train)\n",
        "test_len=len(x_test)\n",
        "\n",
        "(y_train,y_test)=loaded_labels[(int)(0.1*len_data):],loaded_labels[:(int)(0.1*len_data)]\n",
        "\n",
        "y_train=keras.utils.to_categorical(y_train,num_classes)\n",
        "y_test=keras.utils.to_categorical(y_test,num_classes)\n"
      ],
      "execution_count": 0,
      "outputs": []
    },
    {
      "cell_type": "code",
      "metadata": {
        "id": "pfYVfgo_XxY9",
        "colab_type": "code",
        "colab": {}
      },
      "source": [
        "#%% Create cnn\n",
        "model=Sequential()\n",
        "model.add(Conv2D(filters=16,kernel_size=2,padding=\"same\",activation=\"relu\",input_shape=(50,50,3)))\n",
        "model.add(MaxPooling2D(pool_size=2))\n",
        "model.add(Conv2D(filters=32,kernel_size=2,padding=\"same\",activation=\"relu\"))\n",
        "model.add(MaxPooling2D(pool_size=2))\n",
        "model.add(Conv2D(filters=64,kernel_size=2,padding=\"same\",activation=\"relu\"))\n",
        "model.add(MaxPooling2D(pool_size=2))\n",
        "model.add(Flatten())\n",
        "model.add(Dense(500,activation=\"relu\"))\n",
        "model.add(Dropout(0.2))\n",
        "model.add(Dense(2,activation=\"softmax\"))#2 represent output layer neurons \n",
        "model.summary()\n",
        "#%% Fit CNN\n",
        "\n",
        "# compile the model with loss as categorical_crossentropy and using\n",
        "#adam optimizer you can test result by trying RMSProp as well as Momentum\n",
        "model.compile(loss='categorical_crossentropy', optimizer='adam', metrics=['accuracy'])\n",
        "#Fit the model with min batch size as 50[can tune batch size to some factor of 2^power ] \n",
        "fitted = model.fit(x_train,y_train,batch_size=50,epochs=20,verbose=1)\n",
        "\n",
        "accuracy = model.evaluate(x_test, y_test, verbose=1)\n",
        "print('\\n', 'Test_Accuracy:-', accuracy[1])\n",
        "\n",
        "\n",
        "\n",
        "from keras.models import load_model\n",
        "model.save('weights_for_50px.h5')\n",
        "\n"
      ],
      "execution_count": 0,
      "outputs": []
    },
    {
      "cell_type": "code",
      "metadata": {
        "id": "so-24gJgXxbx",
        "colab_type": "code",
        "colab": {}
      },
      "source": [
        "#%% prediction func\n",
        "def convert_to_array(img):\n",
        "    im = cv2.imread(img)\n",
        "    im = cv2.resize(im, (50, 50))\n",
        "    return np.array(im)\n",
        "def get_cell_name(label):\n",
        "    if label==0:\n",
        "        return \"Paracitized\"\n",
        "    if label==1:\n",
        "        return \"Uninfected\"\n",
        "def predict_image(file):\n",
        "    model = load_model('weights_for_50px.h5')\n",
        "    print(\"Predicting Image.................................\")\n",
        "    ar=convert_to_array(file)\n",
        "    ar=ar/255\n",
        "    a=[]\n",
        "    a.append(ar)\n",
        "    a=np.array(a)\n",
        "    score=model.predict(a,verbose=1)\n",
        "    print(score)\n",
        "    label_index=np.argmax(score)\n",
        "    print(label_index)\n",
        "    acc=np.max(score)\n",
        "    Cell=get_cell_name(label_index)\n",
        "    return \"The predicted Image is a \"+Cell+\" with accuracy =  \"+str(acc)\n"
      ],
      "execution_count": 0,
      "outputs": []
    }
  ]
}